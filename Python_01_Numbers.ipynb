{
  "nbformat": 4,
  "nbformat_minor": 0,
  "metadata": {
    "colab": {
      "provenance": [],
      "include_colab_link": true
    },
    "kernelspec": {
      "name": "python3",
      "display_name": "Python 3"
    },
    "language_info": {
      "name": "python"
    }
  },
  "cells": [
    {
      "cell_type": "markdown",
      "metadata": {
        "id": "view-in-github",
        "colab_type": "text"
      },
      "source": [
        "<a href=\"https://colab.research.google.com/github/warren4813/VideoApp/blob/main/Python_01_Numbers.ipynb\" target=\"_parent\"><img src=\"https://colab.research.google.com/assets/colab-badge.svg\" alt=\"Open In Colab\"/></a>"
      ]
    },
    {
      "cell_type": "markdown",
      "metadata": {
        "id": "gpnJb0pAJc5k"
      },
      "source": [
        "\n",
        "<img src=\"https://user-images.githubusercontent.com/91729702/148638441-cfe65bc3-9011-4e1a-861a-9bc780e76f8a.jpg\" alt=\"Wyton Station Logo\" width=\"100%\">\n"
      ]
    },
    {
      "cell_type": "markdown",
      "metadata": {
        "id": "73hkGlBmkii9"
      },
      "source": [
        "\n",
        "**<font color=\"grey\" size=5>Before you get started, don't forget to click \"File\" then \"Save a Copy in GitHub\" to save a copy of this tutorial into your GitHub repository. From the GitHub page that opens click the \"Open in Colab\" button to open your saved tutorial. Save any progress you make by clicking \"File\" then \"Save a Copy in GitHub\" again.</font>**"
      ]
    },
    {
      "cell_type": "markdown",
      "metadata": {
        "id": "zuYrYd78TSYj"
      },
      "source": [
        "**Note:**  If you see a word or phrase highlighted like this **<font color=\"red\">example</font>** you can find a definition in the **Definitions and Terms** section, located at the end of the tutorial."
      ]
    },
    {
      "cell_type": "markdown",
      "metadata": {
        "id": "4ztyeu1VTPrl"
      },
      "source": [
        "***"
      ]
    },
    {
      "cell_type": "markdown",
      "metadata": {
        "id": "YaJe_PuBg46u"
      },
      "source": [
        "#**Background**\n"
      ]
    },
    {
      "cell_type": "markdown",
      "metadata": {
        "id": "gHwMC1JNJbbk"
      },
      "source": [
        "##**What is Python?**\n",
        "\n",
        "Python is a simple but powerful programming language. Python was initially designed by Guido van Rossum in 1991 with an emphasis on ease of use and simplicity. Python got it's name from “Monty Python's Flying Circus”, a BBC comedy series from the 1970s, as Guido van Rossum was reading the published scripts at the time.\n",
        "\n",
        "You may have tried to learn a programming language before or the thought of learning one may be a daunting concept. The simplicity of Python compared to other programming languages to the complete beginner will likely come as a pleasant surprise. Python has simple **<font color=\"red\">syntax</font>** which makes reading written code closer to the english language. Python is also structured so it requires fewer lines of code and easier to work out what each line is doing. In addition to it's relative ease of use, Python's versatility means you can conduct a huge variety of tasks, such as:\n",
        "\n",
        "1.   File directory management.\n",
        "2.   Edit and manipulate spreadsheets.\n",
        "3.   Data visualisation.\n",
        "4.   Task automation.\n",
        "5.   Artificial Intelligence and Machine Learning.\n",
        "6.   Web development.\n",
        "\n",
        "The list above is not exhaustive and you certainly do not need to have a reason to learn Python. By Learning Python it is likely that you will discover ways that you can apply it to your working or day-to-day lives."
      ]
    },
    {
      "cell_type": "markdown",
      "metadata": {
        "id": "u2NWZEdH-hwj"
      },
      "source": [
        "***"
      ]
    },
    {
      "cell_type": "markdown",
      "metadata": {
        "id": "Cjke0xC5JPc1"
      },
      "source": [
        "#**Introduction**\n"
      ]
    },
    {
      "cell_type": "markdown",
      "metadata": {
        "id": "W1KVO2n4mmar"
      },
      "source": [
        "Python recognises various data types. In programming data type is an important concept as different types can do different things.To start our journey with the Python language, throughout the first few tutorials, we will look at simple data types.\n",
        "\n",
        "**Simple data types:**\n",
        "\n",
        "*   Integer - Whole numbers.\n",
        "*   Float - Decimal numbers.\n",
        "*   String - Text.\n",
        "*   Boolean - True or False.\n",
        "\n",
        "In this first tutorial, we will look at numbers (integer and float) in Python and how to use them.\n",
        "\n",
        "#####**What you'll learn in this tutorial?**\n",
        "\n",
        "1.   Types of Numbers in Python.\n",
        "2.   Basic Arithmetic.\n",
        "3.   Differences between classic division and floor division.\n",
        "4.   Variable assignment and reassignment.\n",
        "\n",
        "At the end of the tutorial you will have the opportunity to test what you have learned."
      ]
    },
    {
      "cell_type": "markdown",
      "metadata": {
        "id": "e5rj5EfgRLZW"
      },
      "source": [
        "***"
      ]
    },
    {
      "cell_type": "markdown",
      "metadata": {
        "id": "HH_qTlPmyo0U"
      },
      "source": [
        "#**Numbers in Python**\n"
      ]
    },
    {
      "cell_type": "markdown",
      "metadata": {
        "id": "9GxbKjPWl9_D"
      },
      "source": [
        "##**Types of numbers**\n",
        "Python has various \"types\" of numbers, we'll mainly focus on integers and floating point numbers for this tutorial.\n",
        "\n",
        "Integers are  positive or negative whole numbers. 2 and -2 are examples of integers.\n",
        "\n",
        "Floating point numbers in Python are notable because they have a decimal point in them. Again these decimal numbers can be positive or negative. 2.0 and -2.1 are examples of floating point numbers.\n",
        "\n",
        "Exponents are also recognised by python written as e or E. Exponents are useful for writing very small or very large numbers. For example, float 0.000000123 can be written 1.23E-7\n",
        "\n",
        "Throughout this course we will be mainly working with integers or simple float number types.\n",
        "\n",
        "Now let's start with some basic arithmetic."
      ]
    },
    {
      "cell_type": "markdown",
      "metadata": {
        "id": "rHeHbGa4RP-N"
      },
      "source": [
        "***"
      ]
    },
    {
      "cell_type": "markdown",
      "metadata": {
        "id": "txYyaNw5lfGy"
      },
      "source": [
        "## **Basic Arithmetic**"
      ]
    },
    {
      "cell_type": "markdown",
      "metadata": {
        "id": "CF_tZcpploTh"
      },
      "source": [
        "Python can manipulate numbers in very much the same way that you would use a calculator. This is done through the use of an **<font color=\"red\">operator</font>**. An operator is a pythonic term for the symbol used to carry out a particular operation (hence the name). Here is a list of operators we can use:\n",
        "\n",
        "Operator  | Function\n",
        "----------|-------------\n",
        "+         | Addition\n",
        "-         | Subtraction\n",
        "*         | Multiplication\n",
        "/ | Division\n",
        "%| Modulus\n",
        "** | Exponentiation\n",
        "//| Floor Division\n",
        "\n",
        "Let's use a few examples to demonstrate. In the code cells below try running each cell with it's original values and observing the output. Where prompted to do so, change the values and re-run the cell to get the desired output.\n"
      ]
    },
    {
      "cell_type": "code",
      "metadata": {
        "id": "cNhY0wv1e2S_"
      },
      "source": [
        "# Addition (try replacing the values below so the output returns 42)\n",
        "2 + 1"
      ],
      "execution_count": null,
      "outputs": []
    },
    {
      "cell_type": "code",
      "metadata": {
        "id": "1ijrHCotlw1p"
      },
      "source": [
        "# Subtraction (try replacing the values below so the output totals 14\n",
        "100-27"
      ],
      "execution_count": null,
      "outputs": []
    },
    {
      "cell_type": "code",
      "metadata": {
        "id": "5eYFYBg1mBSS"
      },
      "source": [
        "# Multiplication (try replacing the values below so the output totals 20 )\n",
        "2*2"
      ],
      "execution_count": null,
      "outputs": []
    },
    {
      "cell_type": "code",
      "metadata": {
        "id": "uAkeqoynoect"
      },
      "source": [
        "# Division (try replacing the values below so the output totals 2.5 )\n",
        "3/2\n"
      ],
      "execution_count": null,
      "outputs": []
    },
    {
      "cell_type": "code",
      "metadata": {
        "id": "bj7iMhbioplI"
      },
      "source": [
        "# Floor Division (Run the cell and observe the output, see below for an explanation)\n",
        "7//4"
      ],
      "execution_count": null,
      "outputs": []
    },
    {
      "cell_type": "markdown",
      "metadata": {
        "id": "PpU4f_wMpFRq"
      },
      "source": [
        "The reason we get the result above is because we are using \"floor\" division. The // operator (two forward slashes) returns how many times the divisor (number we're dividing by) can fit completely into the dividend (number being divided) without a remainder.\n",
        "\n",
        "What if we just wanted the remainder after a division? That's where the modulo operator comes in."
      ]
    },
    {
      "cell_type": "code",
      "metadata": {
        "id": "XpOfn4hmpd-a"
      },
      "source": [
        "# Modulo\n",
        "7%4"
      ],
      "execution_count": null,
      "outputs": []
    },
    {
      "cell_type": "markdown",
      "metadata": {
        "id": "_foR--9GpvLJ"
      },
      "source": [
        "4 goes into 7 once, with a remainder of 3. The % operator returns the remainder after division. One usecase of modulo is to check if a number is even or not. If the result of a given number %2 is equal to 0 then we know it is even."
      ]
    },
    {
      "cell_type": "markdown",
      "metadata": {
        "id": "h_v2pxiZICr2"
      },
      "source": [
        "Let's continue looking at operators below."
      ]
    },
    {
      "cell_type": "code",
      "metadata": {
        "id": "EqM1HpcnpoAA"
      },
      "source": [
        "# Powers (try replacing the values below so the output is 3 to the power of 3)\n",
        "2**3"
      ],
      "execution_count": null,
      "outputs": []
    },
    {
      "cell_type": "code",
      "metadata": {
        "id": "WwpClivwslA5"
      },
      "source": [
        "# You Can also do roots this way (The example below gives the square root of 4)\n",
        "4**0.5"
      ],
      "execution_count": null,
      "outputs": []
    },
    {
      "cell_type": "code",
      "metadata": {
        "id": "4lVUemwtsuAI"
      },
      "source": [
        "# Order of Operations followed in Python (Brackets, Orders, Division, Multiplication, Addition, Subtraction (BODMAS))\n",
        "2 + 10 * 10 + 3"
      ],
      "execution_count": null,
      "outputs": []
    },
    {
      "cell_type": "code",
      "metadata": {
        "id": "N2tuK1Pjtnnx"
      },
      "source": [
        "# You can use parentheses to specify orders\n",
        "(2+10) * (10+3)"
      ],
      "execution_count": null,
      "outputs": []
    },
    {
      "cell_type": "markdown",
      "metadata": {
        "id": "1hZqrhG6RTqs"
      },
      "source": [
        "***"
      ]
    },
    {
      "cell_type": "markdown",
      "metadata": {
        "id": "nzlj_rWjuhPX"
      },
      "source": [
        "## **Variable Assignments**"
      ]
    },
    {
      "cell_type": "markdown",
      "metadata": {
        "id": "jJfF2ajjuon3"
      },
      "source": [
        "Now that we've seen how to use numbers in Python as a calculator let's see how we can use numbers to create **<font color=\"red\">variables</font>**. A variable can be considered as a container that stores a value.\n",
        "\n",
        "To store a value in our variable container we conduct variable **<font color=\"red\">assignment</font>** by using a single equals sign to apply labels to values. As python code executes sequentially line by line, it is important to note that you must assign a variable before you can use it.\n",
        "\n",
        "Let's see a few examples of how we can do this."
      ]
    },
    {
      "cell_type": "code",
      "metadata": {
        "id": "VtWApSzEut9M"
      },
      "source": [
        "# Let's create an variable called \"a\" and assign it the number 5\n",
        "a = 5"
      ],
      "execution_count": null,
      "outputs": []
    },
    {
      "cell_type": "markdown",
      "metadata": {
        "id": "kqjOv39buxtX"
      },
      "source": [
        "Now if you call \"a\" in your Python code, Python will retrieve the value stored in the variable named \"a\". Essentially it will treat \"a\" as if it was the number 5."
      ]
    },
    {
      "cell_type": "code",
      "metadata": {
        "id": "IaCjjn2ErzV7"
      },
      "source": [
        "# Let's recall the value stored in variable \"a\"\n",
        "a"
      ],
      "execution_count": null,
      "outputs": []
    },
    {
      "cell_type": "code",
      "metadata": {
        "id": "NSk2FHQBuwkH"
      },
      "source": [
        "# We can call our variables to perform calculations using operators\n",
        "a+a"
      ],
      "execution_count": null,
      "outputs": []
    },
    {
      "cell_type": "markdown",
      "metadata": {
        "id": "k-b26UBHfMxj"
      },
      "source": [
        "Another important thing to note with variable assignment is that everything on the right of the equals sign is processed first. The outcome of this process is then assigned to the variable name defined on the left of the equals."
      ]
    },
    {
      "cell_type": "code",
      "metadata": {
        "id": "l4y0d242fG44"
      },
      "source": [
        "# In the example below the a*a is processed first with the result being assigned to the variable \"b\"\n",
        "b = a*a"
      ],
      "execution_count": null,
      "outputs": []
    },
    {
      "cell_type": "code",
      "metadata": {
        "id": "aQVtYAL9fw06"
      },
      "source": [
        "b"
      ],
      "execution_count": null,
      "outputs": []
    },
    {
      "cell_type": "markdown",
      "metadata": {
        "id": "IEmFtaA4u7Ut"
      },
      "source": [
        "What happens if we try to assign a new value to an existing variable? Will Python let us write it over?"
      ]
    },
    {
      "cell_type": "code",
      "metadata": {
        "id": "MGpmk9Dwf-B1"
      },
      "source": [
        "# Let's remind ourselves what value is currently stored in \"a\"\n",
        "a"
      ],
      "execution_count": null,
      "outputs": []
    },
    {
      "cell_type": "code",
      "metadata": {
        "id": "gWFr69APu3xX"
      },
      "source": [
        "# Now let's try to change the value of \"a\" to a new value\n",
        "a = 10"
      ],
      "execution_count": null,
      "outputs": []
    },
    {
      "cell_type": "code",
      "metadata": {
        "id": "0wLnwRc_vA8f"
      },
      "source": [
        "# Let's check what the value of \"a\" is now. Has it changed?\n",
        "a"
      ],
      "execution_count": null,
      "outputs": []
    },
    {
      "cell_type": "markdown",
      "metadata": {
        "id": "GgZXWHA8vGev"
      },
      "source": [
        "Yes! Python allows you to write over assigned variable names, this is called **<font color=\"red\">reassignment</font>**. We can also use the variables themselves when doing the reassignment. Here is an example of what I mean:"
      ]
    },
    {
      "cell_type": "code",
      "metadata": {
        "id": "GAkCf7pVvCnH"
      },
      "source": [
        "# Let's remind ourselves what value is currently stored in \"a\"\n",
        "a"
      ],
      "execution_count": null,
      "outputs": []
    },
    {
      "cell_type": "code",
      "metadata": {
        "id": "ig_pFxMmvLQx"
      },
      "source": [
        "# Let's reassign \"a\" using the current value stored in \"a\"\n",
        "a = a + a"
      ],
      "execution_count": null,
      "outputs": []
    },
    {
      "cell_type": "code",
      "metadata": {
        "id": "vWJ1E-K_vNqH"
      },
      "source": [
        "# Let's check what the value of \"a\" is now.\n",
        "a"
      ],
      "execution_count": null,
      "outputs": []
    },
    {
      "cell_type": "markdown",
      "metadata": {
        "id": "jS_WShuSvaB3"
      },
      "source": [
        "The names you use when creating these labels need to follow a few rules:\n",
        "\n",
        "1. Names can not start with a number.\n",
        "2. There can be no spaces in the name, use _ instead (snake_case).\n",
        "3. Can't use any of these symbols :'\",<>/?|\\()!@#$%^&*~-+\n",
        "4. It's considered best practice that names are all lowercase.\n",
        "5. Avoid using the characters 'l' (lowercase letter el), 'O' (uppercase letter oh),\n",
        "   or 'I' (uppercase letter eye) as single character variable names.\n",
        "6. Avoid using words that have special meaning in Python ([keywords](https://docs.python.org/3/reference/lexical_analysis.html#keywords))\n",
        "\n",
        "\n",
        "Using variable names can be a very useful way to keep track of different variables in Python. For example:"
      ]
    },
    {
      "cell_type": "code",
      "metadata": {
        "id": "P27HQecfvPyX"
      },
      "source": [
        "# Use object names to keep better track of what's going on in your code!\n",
        "my_income = 100\n",
        "\n",
        "tax_rate = 0.1\n",
        "\n",
        "my_taxes = my_income*tax_rate"
      ],
      "execution_count": null,
      "outputs": []
    },
    {
      "cell_type": "code",
      "metadata": {
        "id": "LRogLp9rvf9H"
      },
      "source": [
        "# Show my taxes!\n",
        "my_taxes"
      ],
      "execution_count": null,
      "outputs": []
    },
    {
      "cell_type": "markdown",
      "metadata": {
        "id": "ckl73dZpvpqP"
      },
      "source": [
        "So what have we learned? We learned some of the basics of numbers in Python. We also learned how to do arithmetic and use Python as a basic calculator. We then wrapped it up with learning about Variable Assignment in Python."
      ]
    },
    {
      "cell_type": "markdown",
      "metadata": {
        "id": "QWusmwFiRclf"
      },
      "source": [
        "***"
      ]
    },
    {
      "cell_type": "markdown",
      "metadata": {
        "id": "cDj5sd1jvuEX"
      },
      "source": [
        "## **Test What You've Learned**"
      ]
    },
    {
      "cell_type": "markdown",
      "metadata": {
        "id": "OkyYmKvMv2OP"
      },
      "source": [
        "Now let's use what we have learned by applying it to a scenario.\n",
        "\n",
        "Monty earns a gross salary of 25,000 each year.\n",
        "Monty must pay 12% of his gross salary in National Insurance.\n",
        "Monty must pay a basic rate of Income Tax at 20% of his gross salary.\n",
        "\n",
        "You are to create variables for and calculate the following in the cells provided:\n",
        "\n",
        "*   The amount Monty must pay in Income Tax.\n",
        "*   The amount Monty must pay in National Insurance.\n",
        "*   The total combined deductions Monty must pay.\n",
        "*   The total net salary that Monty has remaining.\n",
        "*   The total net monthly income Monty will have.\n",
        "\n",
        "\n"
      ]
    },
    {
      "cell_type": "code",
      "metadata": {
        "id": "8H2QqpHuxvpQ"
      },
      "source": [
        "#The amount Monty must pay in Income Tax.\n"
      ],
      "execution_count": null,
      "outputs": []
    },
    {
      "cell_type": "code",
      "metadata": {
        "id": "vD6aOjSLx0hv"
      },
      "source": [
        "#The amount Monty must pay in National Insurance.\n"
      ],
      "execution_count": null,
      "outputs": []
    },
    {
      "cell_type": "code",
      "metadata": {
        "id": "H7zMdm99x0on"
      },
      "source": [
        "#The total combined deductions Monty must pay.\n"
      ],
      "execution_count": null,
      "outputs": []
    },
    {
      "cell_type": "code",
      "metadata": {
        "id": "JMKmaQIHx0uy"
      },
      "source": [
        "#The total net salary that Monty has remaining.\n"
      ],
      "execution_count": null,
      "outputs": []
    },
    {
      "cell_type": "code",
      "metadata": {
        "id": "hB_gOoUYx00n"
      },
      "source": [
        "#The total net monthly income Monty will have.\n"
      ],
      "execution_count": null,
      "outputs": []
    },
    {
      "cell_type": "markdown",
      "metadata": {
        "id": "kzBQRgYVRgCR"
      },
      "source": [
        "***"
      ]
    },
    {
      "cell_type": "markdown",
      "metadata": {
        "id": "Vlpym5M-R-w2"
      },
      "source": [
        "Now build a temperature converter.\n",
        "\n",
        "The formula to go from Celsius to Farenheit is (°C x 9/5) + 32, meaning 0°C = 32°F.\n",
        "Create variables for C and F and return the conversions as below."
      ]
    },
    {
      "cell_type": "code",
      "metadata": {
        "id": "n_mdT16PS8lS"
      },
      "source": [
        "#Write some code that takes a temperature of 0°C and outputs 32°F (Don't worry about showing the unit in your output, just the numeric value)\n"
      ],
      "execution_count": null,
      "outputs": []
    },
    {
      "cell_type": "code",
      "metadata": {
        "id": "rdgaEmmzTZvu"
      },
      "source": [
        "#Do the same thing but take 32°F and output 0°C (You might want to Google the formula to convert Farneheit to Celcius)\n"
      ],
      "execution_count": null,
      "outputs": []
    },
    {
      "cell_type": "markdown",
      "metadata": {
        "id": "vKoZDktRRiVx"
      },
      "source": [
        "***"
      ]
    },
    {
      "cell_type": "markdown",
      "metadata": {
        "id": "nr4jLuLvT5Bd"
      },
      "source": [
        "Now let's test your use of modulo and floor division by answering the following questions:\n",
        "\n",
        "Dave loves collecting movie trilogies on DVD. In an attempt to display his collection Dave has bought a DVD display unit that holds 1400 individual DVDs.\n",
        "Dave is a bit of a perfectionist and wants to make sure he fills the display completely with no empty spaces."
      ]
    },
    {
      "cell_type": "code",
      "metadata": {
        "id": "RZW2GTXpUGCh"
      },
      "source": [
        "#Using the provided variables work out if the display unit is suitable for Dave to use.\n",
        "trilogy = 3\n",
        "display_capacity = 1400\n"
      ],
      "execution_count": null,
      "outputs": []
    },
    {
      "cell_type": "code",
      "metadata": {
        "id": "ykZv6DkD4Ztt"
      },
      "source": [
        "#Now work out how many complete trilogies in Dave's collection could be displayed.\n"
      ],
      "execution_count": null,
      "outputs": []
    },
    {
      "cell_type": "markdown",
      "metadata": {
        "id": "8UAmlQOoRr8P"
      },
      "source": [
        "***"
      ]
    },
    {
      "cell_type": "markdown",
      "metadata": {
        "id": "Alb6Y7VVWDrQ"
      },
      "source": [
        "##**Summary**\n",
        "\n",
        "We've learned about number data types and how we can use them in Python. We've covered:\n",
        "\n",
        "1.   Types of Numbers in Python.\n",
        "2.   Basic Arithmetic.\n",
        "3.   Differences between classic division and floor division.\n",
        "4.   Variable assignment and reassignment.\n",
        "\n",
        "\n",
        "These concepts are pretty straightforward but the applications for these will soon become immensely useful. What you'll find with Python is that the syntax and concepts are relatively easy, but the challenge (and the interesting parts!) comes with trying to use these concepts in a logical manner to solve problems.\n",
        "An example question might be something like:\n",
        "\n",
        "The sum of all prime numbers under 10 is 17. What is the sum of all prime numbers under 1,000?\n",
        "\n",
        "Currently you lack the knowledge to solve this programmatically but you could start to think about this and other complex problems.\n"
      ]
    },
    {
      "cell_type": "markdown",
      "metadata": {
        "id": "xJ2r6Qu1R0BG"
      },
      "source": [
        "***"
      ]
    },
    {
      "cell_type": "markdown",
      "metadata": {
        "id": "-ZsjgYV_5yqG"
      },
      "source": [
        "#**What you'll learn in the next tutorial?**\n",
        "\n",
        "We'll be back soon with another tutorial, but in the meantime feel free to practice what we've shown you so far.\n",
        "\n",
        "Next time we will look at another data type in strings,  if you are eager to learn and feel like looking at strings ahead of the next tutorial, you could do worse than look at [this](https://realpython.com/python-strings/) online tutorial.\n",
        "\n",
        "From all of us at the Wyton Coding Club admin team,\n",
        "\n",
        "Happy Coding!\n"
      ]
    },
    {
      "cell_type": "markdown",
      "metadata": {
        "id": "e4-6NoKqR1M-"
      },
      "source": [
        "***"
      ]
    },
    {
      "cell_type": "markdown",
      "metadata": {
        "id": "UYEa01aeqY1O"
      },
      "source": [
        "#**Definitions and Terms**\n",
        "\n",
        "**<font color=\"red\">syntax - </font>** <font color=\"red\">The syntax of the Python programming language is the set of rules which defines how a Python program will be written.</font>\n",
        "\n",
        "**<font color=\"red\">operator - </font>**<font color=\"red\">Special symbols in Python that carry out arithmetic or logical computation.</font>\n",
        "\n",
        "**<font color=\"red\">variable - </font>**<font color=\"red\">A Python variable is a symbolic name that is a reference or pointer to an object. Once an object is assigned to a variable, you can refer to the object by that name.</font>\n",
        "\n",
        "**<font color=\"red\">assignment - </font>**<font color=\"red\">We use Python assignment statements to assign values or objects to names.</font>\n",
        "\n",
        "\n",
        "**<font color=\"red\">reassignment - </font>**<font color=\"red\">The process of assigning a new value to a variable is called reassignment.</font>\n"
      ]
    }
  ]
}